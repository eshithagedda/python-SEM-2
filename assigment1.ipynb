{
  "nbformat": 4,
  "nbformat_minor": 0,
  "metadata": {
    "colab": {
      "name": "assigment1.ipynb",
      "provenance": [],
      "collapsed_sections": [],
      "authorship_tag": "ABX9TyNarh6uYsVTcYfTU/S9i29k",
      "include_colab_link": true
    },
    "kernelspec": {
      "name": "python3",
      "display_name": "Python 3"
    },
    "language_info": {
      "name": "python"
    }
  },
  "cells": [
    {
      "cell_type": "markdown",
      "metadata": {
        "id": "view-in-github",
        "colab_type": "text"
      },
      "source": [
        "<a href=\"https://colab.research.google.com/github/eshithagedda/python-SEM-2/blob/module1/assigment1.ipynb\" target=\"_parent\"><img src=\"https://colab.research.google.com/assets/colab-badge.svg\" alt=\"Open In Colab\"/></a>"
      ]
    },
    {
      "cell_type": "code",
      "execution_count": null,
      "metadata": {
        "colab": {
          "base_uri": "https://localhost:8080/"
        },
        "id": "8_QY6spGnZ4v",
        "outputId": "2f0dc95b-d664-43af-82a1-eea6749aa131"
      },
      "outputs": [
        {
          "output_type": "stream",
          "name": "stdout",
          "text": [
            "8\n",
            "8\n"
          ]
        }
      ],
      "source": [
        "#Accept input from user and store it in variable and print the value\n",
        "a=int(input())\n",
        "print(a)"
      ]
    },
    {
      "cell_type": "code",
      "source": [
        "#Use of print statements and use of (.format )for printing different data types\n",
        "maths=int(input(\"enter marks for Maths: \"))\n",
        "chemistry=int(input(\"enter your marks for Chemistry: \"))\n",
        "english=int(input(\"enter your marks for English: \"))\n",
        "beee=int(input(\"enter your marks for BEE: \"))\n",
        "text='''I am Eshitha, I scored {0} marks in maths, {1} marks in chemistry, {2} marks in english and {3} marks in beee.'''\n",
        "print(text.format(maths, chemistry, english, beee))"
      ],
      "metadata": {
        "id": "adCeWutmn-Cz",
        "colab": {
          "base_uri": "https://localhost:8080/"
        },
        "outputId": "e353032b-67eb-429a-c208-90da1abc4085"
      },
      "execution_count": null,
      "outputs": [
        {
          "output_type": "stream",
          "name": "stdout",
          "text": [
            "enter marks for Maths: 91\n",
            "enter your marks for Chemistry: 90\n",
            "enter your marks for English: 95\n",
            "enter your marks for BEE: 87\n",
            "I am Eshitha, I scored 91 marks in maths, 90 marks in chemistry, 95 marks in english and 87 marks in beee.\n"
          ]
        }
      ]
    },
    {
      "cell_type": "code",
      "source": [
        "#Take 2 numbers as user input and add, multiply, divide, subtract, remainder and print\n",
        "#the output (Same operations on floating point input as well)\n",
        "a=int(input('Enter your 1st number: '))\n",
        "b=int(input('Enter your 2nd number: '))\n",
        "c=a+b\n",
        "print(c)\n",
        "d=a*b\n",
        "print(d)\n",
        "e=a-b\n",
        "print(e)\n",
        "f=a/b\n",
        "print(f)\n",
        "g=a-b\n",
        "print(g)\n",
        "h=a%b\n",
        "print(h)\n",
        "#for floating point input\n",
        "a=float(input('Enter your 1st number: '))\n",
        "b=float(input('Enter your 2nd number: '))\n",
        "c=a+b\n",
        "print(c)\n",
        "d=a*b\n",
        "print(d)\n",
        "e=a-b\n",
        "print(e)\n",
        "f=a/b\n",
        "print(f)\n",
        "g=a-b\n",
        "print(g)\n",
        "h=a%b\n",
        "print(h)\n"
      ],
      "metadata": {
        "id": "QI4HWw9Woozc",
        "colab": {
          "base_uri": "https://localhost:8080/"
        },
        "outputId": "172597ef-827c-4b3a-fc61-dab73943a0ca"
      },
      "execution_count": null,
      "outputs": [
        {
          "output_type": "stream",
          "name": "stdout",
          "text": [
            "Enter your 1st number: 1\n",
            "Enter your 2nd number: 2\n",
            "3\n",
            "2\n",
            "-1\n",
            "0.5\n",
            "-1\n",
            "1\n",
            "Enter your 1st number: 1\n",
            "Enter your 2nd number: 2\n",
            "3.0\n",
            "2.0\n",
            "-1.0\n",
            "0.5\n",
            "-1.0\n",
            "1.0\n"
          ]
        }
      ]
    },
    {
      "cell_type": "code",
      "source": [
        "#Conversion of one unit to another (such as hours to minutes, miles to km and etc)\n",
        "miles=float(input(\"enter a value in miles: \"))\n",
        "kilometers=miles*1.609\n",
        "print(kilometers, \"km\")\n",
        "hours=float(input(\"enter a value in hours: \"))\n",
        "minutes=hours*60\n",
        "print(hours, \"hrs\")\n",
        "liters=float(input(\"enter a value in liters: \"))\n",
        "ml=liters*1000\n",
        "print(ml, \"ml\")\n"
      ],
      "metadata": {
        "id": "27OiwYgzosFL",
        "colab": {
          "base_uri": "https://localhost:8080/"
        },
        "outputId": "9991fa34-18a9-4bda-d177-7bf1b1bb1a53"
      },
      "execution_count": null,
      "outputs": [
        {
          "output_type": "stream",
          "name": "stdout",
          "text": [
            "enter a value in miles: 1\n",
            "1.609 km\n",
            "enter a value in hours: 2\n",
            "2.0 hrs\n",
            "enter a value in liters: 3\n",
            "3000.0 ml\n"
          ]
        }
      ]
    },
    {
      "cell_type": "code",
      "source": [
        "#Usage of mathematical functions in python like math.ceil, floor, fabs, fmod, trunc, pow, sqrt etc.\n",
        "import math \n",
        "a=float(input(\"enter a number: \"))\n",
        "print(math.ceil(a))\n",
        "b=float(input(\"enter a number: \"))\n",
        "print(math.floor(b))\n",
        "c=float(input(\"enter a number: \"))\n",
        "print(math.fabs(c))\n",
        "d=float(input(\"enter a number: \"))\n",
        "print(math.fmod(d))\n",
        "e=float(input(\"enter a number: \"))\n",
        "print(math.trunc(e))\n",
        "f=float(input(\"enter a number: \"))\n",
        "print(pow(f))\n",
        "g=float(input(\"enter a number: \"))\n",
        "print(math.sqrt(g))"
      ],
      "metadata": {
        "id": "xXCUqEhOovtL"
      },
      "execution_count": null,
      "outputs": []
    },
    {
      "cell_type": "code",
      "source": [
        "#Building a mathematical calculator that can perform operations according to user input.\n",
        "#Use decision making statement.\n",
        "a=int(input('Enter your first number: '))\n",
        "b=int(input('Enter your second number: '))\n",
        "c=str(input('Enter the operation you would like to take place: '))\n",
        "if c=='+':\n",
        "  print(a+b)\n",
        "elif c=='-':\n",
        "  print(a-b)\n",
        "elif c=='/':\n",
        "  print(a/b)\n",
        "elif c=='*':\n",
        "  print(a*b)"
      ],
      "metadata": {
        "colab": {
          "base_uri": "https://localhost:8080/"
        },
        "id": "7JdgbRrWozyT",
        "outputId": "c2959af4-c6b8-4e18-b579-1bc67b13a49d"
      },
      "execution_count": null,
      "outputs": [
        {
          "output_type": "stream",
          "name": "stdout",
          "text": [
            "Enter your first number: 90\n",
            "Enter your second number: 90\n",
            "Enter the operation you would like to take place/\n",
            "1.0\n"
          ]
        }
      ]
    },
    {
      "cell_type": "code",
      "source": [
        "#Accepting 5 different subject marks from user and displaying the grade of the student\n",
        "\n",
        "a=int(input('enter the marks of 1st subject: '))\n",
        "b=int(input('enter the marks of 2nd subject: '))\n",
        "c=int(input('enter the marks of 3rd subject: '))\n",
        "d=int(input('enter the marks of 4th subject: '))\n",
        "e=int(input('enter the marks of 5th subject: '))\n",
        "total=a+b+c+d+e\n",
        "print(total)\n",
        "avg=(a+b+c+d+e)/5\n",
        "print(avg)\n",
        "if avg>=90 and avg<=100:\n",
        "  print('Your grade is A')\n",
        "elif avg<=80 and avg<91:\n",
        "  print('Your grade is B')\n",
        "elif avg>=70 and avg<81:\n",
        "  print('Your grade is C')\n",
        "elif avg>=60 and avg<71:\n",
        "  print('Your grade is D')\n",
        "elif avg>=50 and avg<61:\n",
        "   print('Your grade is D')\n",
        "elif avg>=40 and avg<51:\n",
        "  print('Your grade is E')\n",
        "\n"
      ],
      "metadata": {
        "id": "xboEDB6Po3bL"
      },
      "execution_count": null,
      "outputs": []
    },
    {
      "cell_type": "code",
      "source": [
        "# a) Printing all even numbers, odd numbers, count of even numbers, count of odd numbers within a given range.\n",
        "# b) Compute the factorial of a given number.\n",
        "# c) Compute GCD of two given numbers.\n",
        "# d) Generate Fibonacci series up to N numbers\n",
        "a=int(input(\"enter a starting range: \"))\n",
        "b=int(input(\"enter ending range: \"))\n",
        "print(\"even numbers in given range:- \")\n",
        "for x in range(a,b+1):\n",
        "  if x%2==0:\n",
        "count+=1\n",
        "print(\"number of even numbers are: \")\n",
        "\n",
        "b=int(input(\"enter staring range: \"))\n",
        "c=int(input(\"enter ending range: \"))\n",
        "print(\"odd numbers in the given range:- \")\n",
        "for x in range (c,d+1):\n",
        "  if x%2==1:\n",
        "          print(x)\n",
        "count=0\n",
        "for x in range(a,b):\n",
        "  if not x%2:\n",
        "    count+=1\n",
        "print(\"number of odd numbers are: \", count)\n",
        "\n",
        "                                                                                                                                      e\n"
      ],
      "metadata": {
        "id": "5TE2E3yBo6sb"
      },
      "execution_count": null,
      "outputs": []
    },
    {
      "cell_type": "code",
      "source": [
        "#Check whether the given input is a) palindrome b) strong c) perfect\n",
        "\n",
        "#for palindrome \n",
        "a=int(input(\"Enter a number: \"))\n",
        "a1=a\n",
        "sum=0\n",
        "while(a1 !=0):\n",
        "  r=a1%10\n",
        "  sum=sum*10+r\n",
        "  a1+a1//10\n",
        "if (sum==a):\n",
        "  print(\"It is a palindrome.\")\n",
        "else:\n",
        "  print(\"It is not a palindrome.\")\n",
        "\n",
        "#for strong \n",
        "a=int(input('Enter a number: '))\n",
        "sum=0\n",
        "a=a1\n",
        "while(a1):\n",
        "  i=1\n",
        "  f=1\n",
        "  sum=sum+f\n",
        "  a1=a1//10\n",
        "if(sum==a):\n",
        "            print(\"it is a strong number.\")\n",
        "else:\n",
        "    print(\"it is not a strong number.\")\n",
        "\n",
        "#for perfect \n",
        "a=int(input('enter a number: '))\n",
        "sum=0\n",
        "for i in range(1,a):\n",
        "  if(a%1==0):\n",
        "    sum=sum+1\n",
        "if (sum==a):\n",
        "           print('it is a perfect number.')\n",
        "else:\n",
        "    print('it is not a perfect number.')\n",
        "           \n",
        "\n",
        "\n",
        "\n"
      ],
      "metadata": {
        "id": "MetHFuSmpPaj"
      },
      "execution_count": null,
      "outputs": []
    },
    {
      "cell_type": "code",
      "source": [
        "#Compute compound interest using loop for a certain principal and interest amount\n",
        "\n",
        "a=int(input(\"Enter the principle amount:\"))\n",
        "rate=int(input(\"Enter the rate:\"))\n",
        "years=int(input(\"Enter the number of years:\"))\n",
        "for i in range(years):\n",
        "    a=a+((a*rate)/100)\n",
        "print(a)"
      ],
      "metadata": {
        "id": "I98iGRpwpSVM"
      },
      "execution_count": null,
      "outputs": []
    }
  ]
}