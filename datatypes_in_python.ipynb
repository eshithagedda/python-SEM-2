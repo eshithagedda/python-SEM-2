{
  "cells": [
    {
      "cell_type": "markdown",
      "metadata": {
        "id": "view-in-github",
        "colab_type": "text"
      },
      "source": [
        "<a href=\"https://colab.research.google.com/github/eshithagedda/python-SEM-2/blob/module1/datatypes_in_python.ipynb\" target=\"_parent\"><img src=\"https://colab.research.google.com/assets/colab-badge.svg\" alt=\"Open In Colab\"/></a>"
      ]
    },
    {
      "cell_type": "markdown",
      "metadata": {
        "id": "t44gTG01qc-l"
      },
      "source": [
        "# converting int to string, float, boolean, complex "
      ]
    },
    {
      "cell_type": "code",
      "execution_count": null,
      "metadata": {
        "scrolled": true,
        "id": "2eIgHhckqc-r",
        "outputId": "49314098-3978-4a2e-d017-7f7048312f79"
      },
      "outputs": [
        {
          "name": "stdout",
          "output_type": "stream",
          "text": [
            "<class 'int'>\n",
            "10\n",
            "10\n",
            "<class 'str'>\n",
            "10.0\n",
            "<class 'float'>\n",
            "True\n",
            "<class 'bool'>\n",
            "(10+0j)\n",
            "<class 'complex'>\n"
          ]
        }
      ],
      "source": [
        "a=10\n",
        "print(type(a))\n",
        "print(a)\n",
        "#before conversion\n",
        "b=str(a)\n",
        "print(b)\n",
        "print(type(b))\n",
        "#after conversion\n",
        "c=float(a)\n",
        "print(c)\n",
        "print(type(c))\n",
        "d=bool(a)\n",
        "print(d)\n",
        "print(type(d))\n",
        "e=complex(a)\n",
        "print(e)\n",
        "print(type(e))"
      ]
    },
    {
      "cell_type": "markdown",
      "metadata": {
        "id": "JPrkQU8eqc-u"
      },
      "source": [
        "# converting string into int, float,boolean and complex"
      ]
    },
    {
      "cell_type": "code",
      "execution_count": null,
      "metadata": {
        "id": "cXNSvY39qc-v",
        "outputId": "6f8d6e66-b4aa-49ff-b000-f12a7a890011"
      },
      "outputs": [
        {
          "name": "stdout",
          "output_type": "stream",
          "text": [
            "<class 'str'>\n",
            "10\n",
            "<class 'int'>\n",
            "10\n",
            "<class 'str'>\n",
            "<class 'bool'>\n",
            "True\n"
          ]
        }
      ],
      "source": [
        "a='10'\n",
        "print(type(a))\n",
        "print(a)\n",
        "b=int(a)\n",
        "print(type(b))\n",
        "print(b)\n",
        "#can not convert alphabets into integrs , only digits\n",
        "#instead of alphabets giving integers from 0-9\n",
        "e=float(a)\n",
        "print(type(a))\n",
        "f=bool(a)\n",
        "print(type(f))\n",
        "print(f)\n"
      ]
    },
    {
      "cell_type": "markdown",
      "metadata": {
        "id": "RHeHTljJqc-w"
      },
      "source": [
        "# converting boolean into int, float, string, complex"
      ]
    },
    {
      "cell_type": "code",
      "execution_count": null,
      "metadata": {
        "id": "AhkLIbJLqc-x"
      },
      "outputs": [],
      "source": [
        "a=60+8j\n",
        "print(type(a))\n",
        "print(a)\n",
        "b=int(b)\n",
        "print(type(b))\n",
        "print(b)\n",
        "#can not convert into int \n"
      ]
    },
    {
      "cell_type": "code",
      "execution_count": null,
      "metadata": {
        "id": "O9ZRsN2oqc-y"
      },
      "outputs": [],
      "source": [
        ""
      ]
    }
  ],
  "metadata": {
    "kernelspec": {
      "display_name": "Python 3",
      "language": "python",
      "name": "python3"
    },
    "language_info": {
      "codemirror_mode": {
        "name": "ipython",
        "version": 3
      },
      "file_extension": ".py",
      "mimetype": "text/x-python",
      "name": "python",
      "nbconvert_exporter": "python",
      "pygments_lexer": "ipython3",
      "version": "3.7.4"
    },
    "colab": {
      "name": "datatypes_in_python.ipynb",
      "provenance": [],
      "include_colab_link": true
    }
  },
  "nbformat": 4,
  "nbformat_minor": 0
}