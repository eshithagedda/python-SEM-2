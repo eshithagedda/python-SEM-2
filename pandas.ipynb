{
  "nbformat": 4,
  "nbformat_minor": 0,
  "metadata": {
    "colab": {
      "name": "pandas.ipynb",
      "provenance": [],
      "collapsed_sections": [],
      "authorship_tag": "ABX9TyPyfeggLReHjxRHs47u84sB",
      "include_colab_link": true
    },
    "kernelspec": {
      "name": "python3",
      "display_name": "Python 3"
    },
    "language_info": {
      "name": "python"
    }
  },
  "cells": [
    {
      "cell_type": "markdown",
      "metadata": {
        "id": "view-in-github",
        "colab_type": "text"
      },
      "source": [
        "<a href=\"https://colab.research.google.com/github/eshithagedda/python-SEM-2/blob/module3/pandas.ipynb\" target=\"_parent\"><img src=\"https://colab.research.google.com/assets/colab-badge.svg\" alt=\"Open In Colab\"/></a>"
      ]
    },
    {
      "cell_type": "code",
      "execution_count": null,
      "metadata": {
        "id": "T7i5qNuJ1eWe"
      },
      "outputs": [],
      "source": [
        "import pandas\n"
      ]
    },
    {
      "cell_type": "code",
      "source": [
        "import pandas\n",
        "\n",
        "mydataset = {\n",
        "  'cars': [\"BMW\", \"Volvo\", \"Ford\"],\n",
        "  'passings': [3, 7, 2]\n",
        "}\n",
        "\n",
        "myvar = pandas.DataFrame(mydataset)\n",
        "\n",
        "print(myvar)"
      ],
      "metadata": {
        "id": "A8pgJNwx1lYU",
        "colab": {
          "base_uri": "https://localhost:8080/"
        },
        "outputId": "921523a4-6436-4b06-dbd3-692d4e32299f"
      },
      "execution_count": null,
      "outputs": [
        {
          "output_type": "stream",
          "name": "stdout",
          "text": [
            "    cars  passings\n",
            "0    BMW         3\n",
            "1  Volvo         7\n",
            "2   Ford         2\n"
          ]
        }
      ]
    },
    {
      "cell_type": "code",
      "source": [
        "import pandas\n",
        "rest={\n",
        "    'Buffet':['VEG','NON-VEG'],\n",
        "    'Passings':['veg biryani','non-veg biryani']\n",
        "}\n",
        "\n",
        "a=pandas.DataFrame(rest)\n",
        "print(a)\n",
        "                "
      ],
      "metadata": {
        "id": "3Xj2Q8SX1o2k",
        "colab": {
          "base_uri": "https://localhost:8080/"
        },
        "outputId": "9476b0fa-f97e-496e-f105-f8d3fc1dab00"
      },
      "execution_count": null,
      "outputs": [
        {
          "output_type": "stream",
          "name": "stdout",
          "text": [
            "    Buffet         Passings\n",
            "0      VEG      veg biryani\n",
            "1  NON-VEG  non-veg biryani\n"
          ]
        }
      ]
    },
    {
      "cell_type": "code",
      "source": [
        "import pandas \n",
        "rest=pandas.read_csv('excelfilepath.csv') #use .csv extension to save the excel file\n",
        "print(rest.to_string())"
      ],
      "metadata": {
        "id": "2t0YCPLm1q90"
      },
      "execution_count": null,
      "outputs": []
    }
  ]
}