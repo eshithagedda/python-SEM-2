{
  "nbformat": 4,
  "nbformat_minor": 0,
  "metadata": {
    "colab": {
      "name": "quiz1.ipynb",
      "provenance": [],
      "collapsed_sections": [],
      "authorship_tag": "ABX9TyO3UGjAqfk7Tvi6yqGXS7ds",
      "include_colab_link": true
    },
    "kernelspec": {
      "name": "python3",
      "display_name": "Python 3"
    },
    "language_info": {
      "name": "python"
    }
  },
  "cells": [
    {
      "cell_type": "markdown",
      "metadata": {
        "id": "view-in-github",
        "colab_type": "text"
      },
      "source": [
        "<a href=\"https://colab.research.google.com/github/eshithagedda/python-SEM-2/blob/module1/quiz1.ipynb\" target=\"_parent\"><img src=\"https://colab.research.google.com/assets/colab-badge.svg\" alt=\"Open In Colab\"/></a>"
      ]
    },
    {
      "cell_type": "code",
      "execution_count": null,
      "metadata": {
        "id": "wSQHYjRAiPKN"
      },
      "outputs": [],
      "source": [
        "#Write a program of swapping of two numbers\n",
        "a=2\n",
        "b=3\n",
        "c=a\n",
        "a=b\n",
        "b=c\n",
        "print(\"Result = \" +str(a)+\" \"+str(b))"
      ]
    },
    {
      "cell_type": "code",
      "source": [
        "#Find out the square root of the number\n",
        "import math\n",
        "a=int(input())\n",
        "b=math.sqrt(a)\n",
        "print(b)\n"
      ],
      "metadata": {
        "id": "O4HMSaWqiXt1"
      },
      "execution_count": null,
      "outputs": []
    },
    {
      "cell_type": "code",
      "source": [
        "#Find out the Largest of three numbers from the give input\n",
        "a=5\n",
        "b=3\n",
        "c=2\n",
        "if a>b and a>c:\n",
        "              print(a)\n",
        "elif b>c and b>a:\n",
        "              print(b)\n",
        "else:\n",
        "    print(c)"
      ],
      "metadata": {
        "id": "qKP47siciduW"
      },
      "execution_count": null,
      "outputs": []
    },
    {
      "cell_type": "code",
      "source": [
        "#Add Black color to the given list in the 4th place.\n",
        "Rainbow=['Red', 'Orange', 'Yellow', 'Green']\n",
        "Rainbow.insert(3,'Black')\n",
        "print(\"Rainbow= \"+str(Rainbow))"
      ],
      "metadata": {
        "colab": {
          "base_uri": "https://localhost:8080/"
        },
        "id": "XY-gyFOIikn1",
        "outputId": "e8e5144b-7148-458d-eb43-3ece5dc412d5"
      },
      "execution_count": null,
      "outputs": [
        {
          "output_type": "stream",
          "name": "stdout",
          "text": [
            "Rainbow= ['Red', 'Orange', 'Yellow', 'Black', 'Green']\n"
          ]
        }
      ]
    }
  ]
}