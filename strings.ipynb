{
  "nbformat": 4,
  "nbformat_minor": 0,
  "metadata": {
    "colab": {
      "name": "strings.ipynb",
      "provenance": [],
      "collapsed_sections": [],
      "authorship_tag": "ABX9TyPQwrgl2c7uFthTDoH6RbUB",
      "include_colab_link": true
    },
    "kernelspec": {
      "name": "python3",
      "display_name": "Python 3"
    },
    "language_info": {
      "name": "python"
    }
  },
  "cells": [
    {
      "cell_type": "markdown",
      "metadata": {
        "id": "view-in-github",
        "colab_type": "text"
      },
      "source": [
        "<a href=\"https://colab.research.google.com/github/eshithagedda/python-SEM-2/blob/module2/strings.ipynb\" target=\"_parent\"><img src=\"https://colab.research.google.com/assets/colab-badge.svg\" alt=\"Open In Colab\"/></a>"
      ]
    },
    {
      "cell_type": "code",
      "execution_count": null,
      "metadata": {
        "colab": {
          "base_uri": "https://localhost:8080/"
        },
        "id": "-IiUAaE49slT",
        "outputId": "1abb21f9-7fc0-44dd-9128-159ecda6e3ef"
      },
      "outputs": [
        {
          "output_type": "stream",
          "name": "stdout",
          "text": [
            "Hello Ai Ml Guyzz\n"
          ]
        }
      ],
      "source": [
        "print('Hello Ai Ml Guyzz')"
      ]
    },
    {
      "cell_type": "code",
      "source": [
        "a=\"I am Eshitha.\"\n",
        "b=\"I come from Gajuwaka\"\n",
        "# to print length of the string\n",
        "print(len(a))\n",
        "print(len(b))\n"
      ],
      "metadata": {
        "colab": {
          "base_uri": "https://localhost:8080/"
        },
        "id": "E9MwD_X094S_",
        "outputId": "cfa3a049-ffce-46f0-df55-4c03655617e9"
      },
      "execution_count": null,
      "outputs": [
        {
          "output_type": "stream",
          "name": "stdout",
          "text": [
            "13\n",
            "20\n"
          ]
        }
      ]
    },
    {
      "cell_type": "code",
      "source": [
        "#check string\n",
        "#to find a word in a sentance or a paragraph \n",
        "a=\"It is what it is.\"\n",
        "if 'and' not in a:\n",
        "  print(\"no, 'and' is not there in the sentence.\")\n"
      ],
      "metadata": {
        "colab": {
          "base_uri": "https://localhost:8080/"
        },
        "id": "Nica5Z1T_tin",
        "outputId": "df65f532-7cc4-4a45-bce5-6d438d9a5b41"
      },
      "execution_count": null,
      "outputs": [
        {
          "output_type": "stream",
          "name": "stdout",
          "text": [
            "no, 'and' is not there in the sentence.\n"
          ]
        }
      ]
    },
    {
      "cell_type": "code",
      "source": [
        "a=\"it is what it is\"\n",
        "print('it' in a)"
      ],
      "metadata": {
        "colab": {
          "base_uri": "https://localhost:8080/"
        },
        "id": "YooyEu-0AvaP",
        "outputId": "419e7a83-61d3-4691-8356-75381e369894"
      },
      "execution_count": null,
      "outputs": [
        {
          "output_type": "stream",
          "name": "stdout",
          "text": [
            "True\n"
          ]
        }
      ]
    },
    {
      "cell_type": "code",
      "source": [
        "a='it is what it is'\n",
        "print('it' in a, 'what' in a)"
      ],
      "metadata": {
        "colab": {
          "base_uri": "https://localhost:8080/"
        },
        "id": "Y4ScxfbhBkk4",
        "outputId": "f1d223bb-1d76-4478-bfab-445999d1c134"
      },
      "execution_count": null,
      "outputs": [
        {
          "output_type": "stream",
          "name": "stdout",
          "text": [
            "True True\n"
          ]
        }
      ]
    },
    {
      "cell_type": "code",
      "source": [
        "#slicing strings \n",
        "a='sundays are for fun'\n",
        "b='i love sundays'\n",
        "print(a[6:15])\n",
        "print(b[11:15])"
      ],
      "metadata": {
        "colab": {
          "base_uri": "https://localhost:8080/"
        },
        "id": "zaURZyi1CedA",
        "outputId": "4f32faeb-6a4a-4ef3-df18-8d6b7d7bf15e"
      },
      "execution_count": 2,
      "outputs": [
        {
          "output_type": "stream",
          "name": "stdout",
          "text": [
            "s are for\n",
            "ays\n"
          ]
        }
      ]
    },
    {
      "cell_type": "code",
      "source": [
        "a=\"your mom\\'s pretty little fingers\"\n",
        "b='like to hoe'\n",
        "c='the garden to grow them big pumpkins'\n",
        "print(a[0:11])\n",
        "print(b[8:11])"
      ],
      "metadata": {
        "colab": {
          "base_uri": "https://localhost:8080/"
        },
        "id": "7BK1c1hzGWQd",
        "outputId": "9e39480b-5c49-4375-d846-722ec4c50bbd"
      },
      "execution_count": null,
      "outputs": [
        {
          "output_type": "stream",
          "name": "stdout",
          "text": [
            "your mom's \n",
            "hoe\n"
          ]
        }
      ]
    },
    {
      "cell_type": "code",
      "source": [
        "#modifying a string\n",
        "#upper\n",
        "a='String'\n",
        "print(a.upper())\n"
      ],
      "metadata": {
        "colab": {
          "base_uri": "https://localhost:8080/"
        },
        "id": "bTUTOUwLFNMy",
        "outputId": "0df9587b-685a-43c1-d978-1e523f3b8edb"
      },
      "execution_count": null,
      "outputs": [
        {
          "output_type": "stream",
          "name": "stdout",
          "text": [
            "STRING\n"
          ]
        }
      ]
    },
    {
      "cell_type": "code",
      "source": [
        "#lower\n",
        "a='string'\n",
        "print(a.lower())"
      ],
      "metadata": {
        "colab": {
          "base_uri": "https://localhost:8080/"
        },
        "id": "lzGD4Ci5GuOA",
        "outputId": "aac451cb-bf07-4084-abb2-a73ac08c9b73"
      },
      "execution_count": null,
      "outputs": [
        {
          "output_type": "stream",
          "name": "stdout",
          "text": [
            "string\n"
          ]
        }
      ]
    },
    {
      "cell_type": "code",
      "source": [
        "#removig white spaces\n",
        "a=' string'\n",
        "print(a.strip())"
      ],
      "metadata": {
        "colab": {
          "base_uri": "https://localhost:8080/"
        },
        "id": "FFWCGFuMHC-I",
        "outputId": "8198fcad-89ed-4f4c-ff75-33ebb9ce8ed2"
      },
      "execution_count": null,
      "outputs": [
        {
          "output_type": "stream",
          "name": "stdout",
          "text": [
            "string.txt\n"
          ]
        }
      ]
    },
    {
      "cell_type": "code",
      "source": [
        "#replacing a string\n",
        "a='poop'\n",
        "print(a.replace('p','n'))"
      ],
      "metadata": {
        "colab": {
          "base_uri": "https://localhost:8080/"
        },
        "id": "pCxGFdDbHnPO",
        "outputId": "5891746e-7c9d-4796-8a6c-d6f12641f8d7"
      },
      "execution_count": 1,
      "outputs": [
        {
          "output_type": "stream",
          "name": "stdout",
          "text": [
            "noon\n"
          ]
        }
      ]
    },
    {
      "cell_type": "code",
      "source": [
        "a='pop them tarts'\n",
        "print(a.replace('pop','poop'))"
      ],
      "metadata": {
        "colab": {
          "base_uri": "https://localhost:8080/"
        },
        "id": "nUWD_hibJcl5",
        "outputId": "39881fa9-e057-46e7-bc1c-a0363c89d051"
      },
      "execution_count": null,
      "outputs": [
        {
          "output_type": "stream",
          "name": "stdout",
          "text": [
            "poop them tarts\n"
          ]
        }
      ]
    },
    {
      "cell_type": "code",
      "source": [
        "#split\n",
        "a='dogs fart too'\n",
        "print(a.split())"
      ],
      "metadata": {
        "colab": {
          "base_uri": "https://localhost:8080/"
        },
        "id": "-fVhEvCHInfy",
        "outputId": "f6756d91-e671-4536-e07a-21a81268847f"
      },
      "execution_count": null,
      "outputs": [
        {
          "output_type": "stream",
          "name": "stdout",
          "text": [
            "['dogs', 'fart', 'too']\n"
          ]
        }
      ]
    },
    {
      "cell_type": "code",
      "source": [
        "#adding two strings \n",
        "a='boom'\n",
        "b='shakalaka'\n",
        "#' ' for space\n",
        "c=a+' '+b\n",
        "print(c)"
      ],
      "metadata": {
        "colab": {
          "base_uri": "https://localhost:8080/"
        },
        "id": "OKRdVji3J_KC",
        "outputId": "40ccbbf8-1851-49da-bd4d-27b136f11e70"
      },
      "execution_count": null,
      "outputs": [
        {
          "output_type": "stream",
          "name": "stdout",
          "text": [
            "boom shakalaka\n"
          ]
        }
      ]
    },
    {
      "cell_type": "code",
      "source": [
        "#format strings\n",
        "a='Will Smith slapped Chris Rock'\n",
        "b=' which was dumb.'\n",
        "print(\"{},{}\".format(a,b))"
      ],
      "metadata": {
        "colab": {
          "base_uri": "https://localhost:8080/"
        },
        "id": "9BBP6fkZLypM",
        "outputId": "86329e24-3983-41d0-dc11-c2d499a56d50"
      },
      "execution_count": null,
      "outputs": [
        {
          "output_type": "stream",
          "name": "stdout",
          "text": [
            "Will Smith slapped Chris Rock, which was dumb.\n"
          ]
        }
      ]
    },
    {
      "cell_type": "code",
      "source": [
        "#count words\n",
        "a='second half first and the first half second'\n",
        "res=len(a.split())\n",
        "print(res)"
      ],
      "metadata": {
        "id": "3tyowbgxM9M4",
        "colab": {
          "base_uri": "https://localhost:8080/"
        },
        "outputId": "e189c18a-6ba4-47eb-d3b8-924e4617d6cc"
      },
      "execution_count": null,
      "outputs": [
        {
          "output_type": "stream",
          "name": "stdout",
          "text": [
            "8\n"
          ]
        }
      ]
    },
    {
      "cell_type": "code",
      "source": [
        "#split into 2 \n",
        "s=input()\n",
        "print(s)\n",
        "s1=s[:len(s)//2]\n",
        "s2=s[len(s)//2:]\n",
        "print(s1,s2)\n"
      ],
      "metadata": {
        "colab": {
          "base_uri": "https://localhost:8080/"
        },
        "id": "36UELN8YjwL0",
        "outputId": "44b8c0df-9b07-429f-d233-e889771025bf"
      },
      "execution_count": null,
      "outputs": [
        {
          "output_type": "stream",
          "name": "stdout",
          "text": [
            "quack\n",
            "quack\n",
            "qu ack\n"
          ]
        }
      ]
    },
    {
      "cell_type": "code",
      "source": [
        "a='ballz'\n",
        "b='quartz'\n",
        "str1=(a.replace(b))\n",
        "str2=(b.replace(a))\n",
        "print(str1+\" \"+str2)\n",
        "\n"
      ],
      "metadata": {
        "colab": {
          "base_uri": "https://localhost:8080/",
          "height": 245
        },
        "id": "fjjDeS-mmHdC",
        "outputId": "56e6f120-f308-4710-80f5-4c41f0ee9813"
      },
      "execution_count": null,
      "outputs": [
        {
          "output_type": "error",
          "ename": "TypeError",
          "evalue": "ignored",
          "traceback": [
            "\u001b[0;31m---------------------------------------------------------------------------\u001b[0m",
            "\u001b[0;31mTypeError\u001b[0m                                 Traceback (most recent call last)",
            "\u001b[0;32m<ipython-input-15-aef43c2daf44>\u001b[0m in \u001b[0;36m<module>\u001b[0;34m()\u001b[0m\n\u001b[1;32m      1\u001b[0m \u001b[0ma\u001b[0m\u001b[0;34m=\u001b[0m\u001b[0;34m'ballz'\u001b[0m\u001b[0;34m\u001b[0m\u001b[0;34m\u001b[0m\u001b[0m\n\u001b[1;32m      2\u001b[0m \u001b[0mb\u001b[0m\u001b[0;34m=\u001b[0m\u001b[0;34m'quartz'\u001b[0m\u001b[0;34m\u001b[0m\u001b[0;34m\u001b[0m\u001b[0m\n\u001b[0;32m----> 3\u001b[0;31m \u001b[0mstr1\u001b[0m\u001b[0;34m=\u001b[0m\u001b[0;34m(\u001b[0m\u001b[0ma\u001b[0m\u001b[0;34m.\u001b[0m\u001b[0mreplace\u001b[0m\u001b[0;34m(\u001b[0m\u001b[0mb\u001b[0m\u001b[0;34m)\u001b[0m\u001b[0;34m)\u001b[0m\u001b[0;34m\u001b[0m\u001b[0;34m\u001b[0m\u001b[0m\n\u001b[0m\u001b[1;32m      4\u001b[0m \u001b[0mstr2\u001b[0m\u001b[0;34m=\u001b[0m\u001b[0;34m(\u001b[0m\u001b[0mb\u001b[0m\u001b[0;34m.\u001b[0m\u001b[0mreplace\u001b[0m\u001b[0;34m(\u001b[0m\u001b[0ma\u001b[0m\u001b[0;34m)\u001b[0m\u001b[0;34m)\u001b[0m\u001b[0;34m\u001b[0m\u001b[0;34m\u001b[0m\u001b[0m\n\u001b[1;32m      5\u001b[0m \u001b[0mprint\u001b[0m\u001b[0;34m(\u001b[0m\u001b[0mstr1\u001b[0m\u001b[0;34m+\u001b[0m\u001b[0;34m\" \"\u001b[0m\u001b[0;34m+\u001b[0m\u001b[0mstr2\u001b[0m\u001b[0;34m)\u001b[0m\u001b[0;34m\u001b[0m\u001b[0;34m\u001b[0m\u001b[0m\n",
            "\u001b[0;31mTypeError\u001b[0m: replace() takes at least 2 arguments (1 given)"
          ]
        }
      ]
    }
  ]
}