{
  "nbformat": 4,
  "nbformat_minor": 0,
  "metadata": {
    "colab": {
      "name": "filehandling.ipynb",
      "provenance": [],
      "collapsed_sections": [],
      "authorship_tag": "ABX9TyMqpplti/iObkgYDc02/GIj",
      "include_colab_link": true
    },
    "kernelspec": {
      "name": "python3",
      "display_name": "Python 3"
    },
    "language_info": {
      "name": "python"
    }
  },
  "cells": [
    {
      "cell_type": "markdown",
      "metadata": {
        "id": "view-in-github",
        "colab_type": "text"
      },
      "source": [
        "<a href=\"https://colab.research.google.com/github/eshithagedda/python-SEM-2/blob/module3/filehandling.ipynb\" target=\"_parent\"><img src=\"https://colab.research.google.com/assets/colab-badge.svg\" alt=\"Open In Colab\"/></a>"
      ]
    },
    {
      "cell_type": "code",
      "execution_count": null,
      "metadata": {
        "id": "k6U1n5gghFAv"
      },
      "outputs": [],
      "source": [
        "#opening a file \n",
        "f=open(\"Desktop\\e.txt\")\n",
        "print(f)"
      ]
    },
    {
      "cell_type": "code",
      "source": [
        "#reading a file \n",
        "f=open(\"Desktop\\e.txt\",\"r\") #here x.txt is the path \n",
        "print(f.read())"
      ],
      "metadata": {
        "id": "pTXCrXwthMHV"
      },
      "execution_count": null,
      "outputs": []
    },
    {
      "cell_type": "code",
      "source": [
        "#reading a file upto a certain limit \n",
        "f=open(\"Desktop\\e.txt\",\"r\")\n",
        "print(f.read(5))"
      ],
      "metadata": {
        "id": "-1gY0dO8hOpF"
      },
      "execution_count": null,
      "outputs": []
    },
    {
      "cell_type": "code",
      "source": [
        "f=open(\"Desktop\\e.txt\",\"r\")\n",
        "print(f.readline(5))"
      ],
      "metadata": {
        "id": "zWeqgirnhQlk"
      },
      "execution_count": null,
      "outputs": []
    },
    {
      "cell_type": "code",
      "source": [
        "f=open(\"Desktop\\e.txt\",\"r\")\n",
        "for x in f:\n",
        "    print(x)"
      ],
      "metadata": {
        "id": "UkahYAERhSJk"
      },
      "execution_count": null,
      "outputs": []
    },
    {
      "cell_type": "code",
      "source": [
        "f=open(\"Desktop\\e.txt\",\"r\")\n",
        "print(f.readline(7))\n",
        "f.close()"
      ],
      "metadata": {
        "id": "tSnRuARihUg8"
      },
      "execution_count": null,
      "outputs": []
    },
    {
      "cell_type": "code",
      "source": [
        "f=open(\"Desktop\\e.txt\",\"a\")\n",
        "f.write(\" He was a good dad.\")\n",
        "f.close()\n",
        "f=open(\"Desktop\\e.txt\",\"r\")\n",
        "print(f.read())"
      ],
      "metadata": {
        "id": "NRLk_0QshVuE"
      },
      "execution_count": null,
      "outputs": []
    },
    {
      "cell_type": "code",
      "source": [
        "#creating files \n",
        "f=open(\"E:\\\\ee.txt\",\"w\")"
      ],
      "metadata": {
        "id": "4VXSjr5WhXGO"
      },
      "execution_count": null,
      "outputs": []
    },
    {
      "cell_type": "code",
      "source": [
        "#deleting files\n",
        "import os \n",
        "os.remove(\"Desktop\\e.txt\")"
      ],
      "metadata": {
        "id": "Z8y1uJvwhYn0"
      },
      "execution_count": null,
      "outputs": []
    }
  ]
}