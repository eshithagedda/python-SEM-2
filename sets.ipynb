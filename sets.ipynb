{
  "nbformat": 4,
  "nbformat_minor": 0,
  "metadata": {
    "colab": {
      "name": "sets.ipynb",
      "provenance": [],
      "collapsed_sections": [],
      "authorship_tag": "ABX9TyNlh8qZesKMZQnHSS0g1qn3",
      "include_colab_link": true
    },
    "kernelspec": {
      "name": "python3",
      "display_name": "Python 3"
    },
    "language_info": {
      "name": "python"
    }
  },
  "cells": [
    {
      "cell_type": "markdown",
      "metadata": {
        "id": "view-in-github",
        "colab_type": "text"
      },
      "source": [
        "<a href=\"https://colab.research.google.com/github/eshithagedda/python-SEM-2/blob/module2/sets.ipynb\" target=\"_parent\"><img src=\"https://colab.research.google.com/assets/colab-badge.svg\" alt=\"Open In Colab\"/></a>"
      ]
    },
    {
      "cell_type": "code",
      "execution_count": null,
      "metadata": {
        "colab": {
          "base_uri": "https://localhost:8080/"
        },
        "id": "PFF_5MBtcXYA",
        "outputId": "c75510da-6b2d-483a-9cce-ef0b7bfbc0cd"
      },
      "outputs": [
        {
          "output_type": "stream",
          "name": "stdout",
          "text": [
            "garlic\n",
            "onions\n",
            "potatoes\n",
            "chillies\n"
          ]
        }
      ],
      "source": [
        "vegetables= {\"onions\",\"garlic\",\"chillies\",\"potatoes\"}\n",
        "for x in vegetables:\n",
        "  print(x)"
      ]
    },
    {
      "cell_type": "code",
      "source": [
        "vegetables= (\"onions\",\"garlic\",\"chillies\",\"potatoes\")\n",
        "print (\"mango\" in vegetables)"
      ],
      "metadata": {
        "colab": {
          "base_uri": "https://localhost:8080/"
        },
        "id": "xoyGWjSWdADc",
        "outputId": "3683b766-1495-4ef3-cfd1-35c0b2a613ad"
      },
      "execution_count": null,
      "outputs": [
        {
          "output_type": "stream",
          "name": "stdout",
          "text": [
            "False\n"
          ]
        }
      ]
    },
    {
      "cell_type": "code",
      "source": [
        "vegetables= {\"onions\",\"garlic\",\"chillies\",\"potatoes\"}\n",
        "vegetables.add(\"mango\")\n",
        "print(vegetables)\n",
        "\n"
      ],
      "metadata": {
        "colab": {
          "base_uri": "https://localhost:8080/"
        },
        "id": "QpcQdkcBdK4s",
        "outputId": "933c73e2-cd30-46bc-eda0-754cae97acec"
      },
      "execution_count": null,
      "outputs": [
        {
          "output_type": "stream",
          "name": "stdout",
          "text": [
            "{'garlic', 'chillies', 'onions', 'mango', 'potatoes'}\n"
          ]
        }
      ]
    },
    {
      "cell_type": "code",
      "source": [
        "vegetables= {\"onions\",\"garlic\",\"chillies\",\"potatoes\"}\n",
        "stationary= (\"pens\", \"scale\",\"notebooks\",\"pencils\")\n",
        "vegetables.update(stationary)\n",
        "for x in vegetables:\n",
        "  print(vegetables)"
      ],
      "metadata": {
        "colab": {
          "base_uri": "https://localhost:8080/"
        },
        "id": "iZA-WdWwdgIc",
        "outputId": "21a75174-f9eb-4f51-add8-33f25772084e"
      },
      "execution_count": null,
      "outputs": [
        {
          "output_type": "stream",
          "name": "stdout",
          "text": [
            "{'garlic', 'notebooks', 'chillies', 'pencils', 'onions', 'scale', 'pens', 'potatoes'}\n",
            "{'garlic', 'notebooks', 'chillies', 'pencils', 'onions', 'scale', 'pens', 'potatoes'}\n",
            "{'garlic', 'notebooks', 'chillies', 'pencils', 'onions', 'scale', 'pens', 'potatoes'}\n",
            "{'garlic', 'notebooks', 'chillies', 'pencils', 'onions', 'scale', 'pens', 'potatoes'}\n",
            "{'garlic', 'notebooks', 'chillies', 'pencils', 'onions', 'scale', 'pens', 'potatoes'}\n",
            "{'garlic', 'notebooks', 'chillies', 'pencils', 'onions', 'scale', 'pens', 'potatoes'}\n",
            "{'garlic', 'notebooks', 'chillies', 'pencils', 'onions', 'scale', 'pens', 'potatoes'}\n",
            "{'garlic', 'notebooks', 'chillies', 'pencils', 'onions', 'scale', 'pens', 'potatoes'}\n"
          ]
        }
      ]
    }
  ]
}